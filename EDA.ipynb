{
 "cells": [
  {
   "cell_type": "markdown",
   "id": "ea5581ba",
   "metadata": {},
   "source": [
    "# 텍스트 다중분류\n",
    "- EDA\n",
    "- 데이터 전처리\n",
    "- 모델\n",
    "    - AutoKeras\n",
    "    - LSTM\n",
    "    "
   ]
  },
  {
   "cell_type": "markdown",
   "id": "2805aa4b",
   "metadata": {},
   "source": [
    "## EDA"
   ]
  },
  {
   "cell_type": "code",
   "execution_count": 1,
   "id": "4d0808e0",
   "metadata": {},
   "outputs": [
    {
     "data": {
      "text/html": [
       "<div>\n",
       "<style scoped>\n",
       "    .dataframe tbody tr th:only-of-type {\n",
       "        vertical-align: middle;\n",
       "    }\n",
       "\n",
       "    .dataframe tbody tr th {\n",
       "        vertical-align: top;\n",
       "    }\n",
       "\n",
       "    .dataframe thead th {\n",
       "        text-align: right;\n",
       "    }\n",
       "</style>\n",
       "<table border=\"1\" class=\"dataframe\">\n",
       "  <thead>\n",
       "    <tr style=\"text-align: right;\">\n",
       "      <th></th>\n",
       "      <th>idx</th>\n",
       "      <th>class</th>\n",
       "      <th>conversation</th>\n",
       "    </tr>\n",
       "  </thead>\n",
       "  <tbody>\n",
       "    <tr>\n",
       "      <th>0</th>\n",
       "      <td>0</td>\n",
       "      <td>협박 대화</td>\n",
       "      <td>지금 너 스스로를 죽여달라고 애원하는 것인가?\\n 아닙니다. 죄송합니다.\\n 죽을 ...</td>\n",
       "    </tr>\n",
       "    <tr>\n",
       "      <th>1</th>\n",
       "      <td>1</td>\n",
       "      <td>협박 대화</td>\n",
       "      <td>길동경찰서입니다.\\n9시 40분 마트에 폭발물을 설치할거다.\\n네?\\n똑바로 들어 ...</td>\n",
       "    </tr>\n",
       "    <tr>\n",
       "      <th>2</th>\n",
       "      <td>2</td>\n",
       "      <td>기타 괴롭힘 대화</td>\n",
       "      <td>너 되게 귀여운거 알지? 나보다 작은 남자는 첨봤어.\\n그만해. 니들 놀리는거 재미...</td>\n",
       "    </tr>\n",
       "    <tr>\n",
       "      <th>3</th>\n",
       "      <td>3</td>\n",
       "      <td>갈취 대화</td>\n",
       "      <td>어이 거기\\n예??\\n너 말이야 너. 이리 오라고\\n무슨 일.\\n너 옷 좋아보인다?...</td>\n",
       "    </tr>\n",
       "    <tr>\n",
       "      <th>4</th>\n",
       "      <td>4</td>\n",
       "      <td>갈취 대화</td>\n",
       "      <td>저기요 혹시 날이 너무 뜨겁잖아요? 저희 회사에서 이 선크림 파는데 한 번 손등에 ...</td>\n",
       "    </tr>\n",
       "  </tbody>\n",
       "</table>\n",
       "</div>"
      ],
      "text/plain": [
       "   idx      class                                       conversation\n",
       "0    0      협박 대화  지금 너 스스로를 죽여달라고 애원하는 것인가?\\n 아닙니다. 죄송합니다.\\n 죽을 ...\n",
       "1    1      협박 대화  길동경찰서입니다.\\n9시 40분 마트에 폭발물을 설치할거다.\\n네?\\n똑바로 들어 ...\n",
       "2    2  기타 괴롭힘 대화  너 되게 귀여운거 알지? 나보다 작은 남자는 첨봤어.\\n그만해. 니들 놀리는거 재미...\n",
       "3    3      갈취 대화  어이 거기\\n예??\\n너 말이야 너. 이리 오라고\\n무슨 일.\\n너 옷 좋아보인다?...\n",
       "4    4      갈취 대화  저기요 혹시 날이 너무 뜨겁잖아요? 저희 회사에서 이 선크림 파는데 한 번 손등에 ..."
      ]
     },
     "execution_count": 1,
     "metadata": {},
     "output_type": "execute_result"
    }
   ],
   "source": [
    "import os\n",
    "import pandas as pd\n",
    "import tensorflow\n",
    "import numpy as np\n",
    "import matplotlib\n",
    "import os\n",
    "import re\n",
    "import sentencepiece as spm\n",
    "import matplotlib.pyplot as plt\n",
    "import tensorflow as tf\n",
    "\n",
    "train_data_path =\"~/data/train.csv\"\n",
    "train_data = pd.read_csv(train_data_path)\n",
    "train_data.head()"
   ]
  },
  {
   "cell_type": "code",
   "execution_count": 2,
   "id": "f76f4a51",
   "metadata": {},
   "outputs": [
    {
     "name": "stdout",
     "output_type": "stream",
     "text": [
      "class\n",
      "갈취 대화           981\n",
      "기타 괴롭힘 대화      1094\n",
      "직장 내 괴롭힘 대화     979\n",
      "협박 대화           896\n",
      "dtype: int64\n"
     ]
    }
   ],
   "source": [
    "class_counts = train_data.groupby('class').size()\n",
    "print(class_counts)"
   ]
  },
  {
   "cell_type": "code",
   "execution_count": 31,
   "id": "b83b4cf2",
   "metadata": {},
   "outputs": [
    {
     "data": {
      "text/html": [
       "<div>\n",
       "<style scoped>\n",
       "    .dataframe tbody tr th:only-of-type {\n",
       "        vertical-align: middle;\n",
       "    }\n",
       "\n",
       "    .dataframe tbody tr th {\n",
       "        vertical-align: top;\n",
       "    }\n",
       "\n",
       "    .dataframe thead th {\n",
       "        text-align: right;\n",
       "    }\n",
       "</style>\n",
       "<table border=\"1\" class=\"dataframe\">\n",
       "  <thead>\n",
       "    <tr style=\"text-align: right;\">\n",
       "      <th></th>\n",
       "      <th>idx</th>\n",
       "      <th>class</th>\n",
       "      <th>conversation</th>\n",
       "    </tr>\n",
       "  </thead>\n",
       "  <tbody>\n",
       "    <tr>\n",
       "      <th>0</th>\n",
       "      <td>0</td>\n",
       "      <td>협박 대화</td>\n",
       "      <td>지금 너 스스로를 죽여달라고 애원하는 것인가?\\n 아닙니다. 죄송합니다.\\n 죽을 ...</td>\n",
       "    </tr>\n",
       "    <tr>\n",
       "      <th>1</th>\n",
       "      <td>1</td>\n",
       "      <td>협박 대화</td>\n",
       "      <td>길동경찰서입니다.\\n9시 40분 마트에 폭발물을 설치할거다.\\n네?\\n똑바로 들어 ...</td>\n",
       "    </tr>\n",
       "    <tr>\n",
       "      <th>12</th>\n",
       "      <td>12</td>\n",
       "      <td>협박 대화</td>\n",
       "      <td>네네 무슨 일 때문에 전화주셨나요?\\n우리 애가 지우개 하나 훔친거 가지고 애들 앞...</td>\n",
       "    </tr>\n",
       "    <tr>\n",
       "      <th>20</th>\n",
       "      <td>20</td>\n",
       "      <td>협박 대화</td>\n",
       "      <td>너가 민수라는 남자 제자니?\\n네 맞는데요 왜 그러시죠? 혹시 저희 선생님께 무슨 ...</td>\n",
       "    </tr>\n",
       "    <tr>\n",
       "      <th>23</th>\n",
       "      <td>23</td>\n",
       "      <td>협박 대화</td>\n",
       "      <td>나좀 제발 그만 따라다녀.부탁이야\\n너 만나려면 널 찾아가야될거아냐\\n우리 헤어졌자...</td>\n",
       "    </tr>\n",
       "    <tr>\n",
       "      <th>...</th>\n",
       "      <td>...</td>\n",
       "      <td>...</td>\n",
       "      <td>...</td>\n",
       "    </tr>\n",
       "    <tr>\n",
       "      <th>3924</th>\n",
       "      <td>3924</td>\n",
       "      <td>협박 대화</td>\n",
       "      <td>때리지 말아줘\\n 아퍼? 아프면 참아봐.\\n나 이미 충분히 병원다니고 있어.\\n병원...</td>\n",
       "    </tr>\n",
       "    <tr>\n",
       "      <th>3925</th>\n",
       "      <td>3925</td>\n",
       "      <td>협박 대화</td>\n",
       "      <td>오랜만이다. 여기 니 인질\\n그래. 형이 무사히 다 빠져나가고 나면 그 다음에 이야...</td>\n",
       "    </tr>\n",
       "    <tr>\n",
       "      <th>3926</th>\n",
       "      <td>3926</td>\n",
       "      <td>협박 대화</td>\n",
       "      <td>아가씨 너희 집 어딘지 이제 아는데.\\n 선생님 제발 우리 집에는 오지 마세요.\\n...</td>\n",
       "    </tr>\n",
       "    <tr>\n",
       "      <th>3929</th>\n",
       "      <td>3929</td>\n",
       "      <td>협박 대화</td>\n",
       "      <td>안녕하세요 중고나라보고 문의드려요\\n네 아이폰 50만원에 팔아요\\n네 입금했습니다\\...</td>\n",
       "    </tr>\n",
       "    <tr>\n",
       "      <th>3938</th>\n",
       "      <td>3938</td>\n",
       "      <td>협박 대화</td>\n",
       "      <td>한국지검검사 윤동철 입니다. 지금 박세미님 계좌가 범죄에 연루되어 있으니 빨리 저한...</td>\n",
       "    </tr>\n",
       "  </tbody>\n",
       "</table>\n",
       "<p>896 rows × 3 columns</p>\n",
       "</div>"
      ],
      "text/plain": [
       "       idx  class                                       conversation\n",
       "0        0  협박 대화  지금 너 스스로를 죽여달라고 애원하는 것인가?\\n 아닙니다. 죄송합니다.\\n 죽을 ...\n",
       "1        1  협박 대화  길동경찰서입니다.\\n9시 40분 마트에 폭발물을 설치할거다.\\n네?\\n똑바로 들어 ...\n",
       "12      12  협박 대화  네네 무슨 일 때문에 전화주셨나요?\\n우리 애가 지우개 하나 훔친거 가지고 애들 앞...\n",
       "20      20  협박 대화  너가 민수라는 남자 제자니?\\n네 맞는데요 왜 그러시죠? 혹시 저희 선생님께 무슨 ...\n",
       "23      23  협박 대화  나좀 제발 그만 따라다녀.부탁이야\\n너 만나려면 널 찾아가야될거아냐\\n우리 헤어졌자...\n",
       "...    ...    ...                                                ...\n",
       "3924  3924  협박 대화  때리지 말아줘\\n 아퍼? 아프면 참아봐.\\n나 이미 충분히 병원다니고 있어.\\n병원...\n",
       "3925  3925  협박 대화  오랜만이다. 여기 니 인질\\n그래. 형이 무사히 다 빠져나가고 나면 그 다음에 이야...\n",
       "3926  3926  협박 대화  아가씨 너희 집 어딘지 이제 아는데.\\n 선생님 제발 우리 집에는 오지 마세요.\\n...\n",
       "3929  3929  협박 대화  안녕하세요 중고나라보고 문의드려요\\n네 아이폰 50만원에 팔아요\\n네 입금했습니다\\...\n",
       "3938  3938  협박 대화  한국지검검사 윤동철 입니다. 지금 박세미님 계좌가 범죄에 연루되어 있으니 빨리 저한...\n",
       "\n",
       "[896 rows x 3 columns]"
      ]
     },
     "execution_count": 31,
     "metadata": {},
     "output_type": "execute_result"
    }
   ],
   "source": [
    "train_data[train_data['class']=='협박 대화']"
   ]
  },
  {
   "cell_type": "code",
   "execution_count": 3,
   "id": "5ba3d93f",
   "metadata": {},
   "outputs": [],
   "source": [
    "x_train = train_data['conversation']\n",
    "y_train = train_data['class']"
   ]
  },
  {
   "cell_type": "markdown",
   "id": "93c66427",
   "metadata": {},
   "source": [
    "### 데이터 길이, 클래스 분포 확인"
   ]
  },
  {
   "cell_type": "code",
   "execution_count": 4,
   "id": "62d679ab",
   "metadata": {},
   "outputs": [
    {
     "name": "stdout",
     "output_type": "stream",
     "text": [
      "데이터 정보\n",
      "--------------------------------------------------\n",
      "x_train : (3950,)\n",
      "y_train : (3950,)\n",
      "label 종류: {'갈취 대화', '협박 대화', '기타 괴롭힘 대화', '직장 내 괴롭힘 대화'}\n",
      "--------------------------------------------------\n",
      "클래스의 수 : 4\n",
      "--------------------------------------------------\n",
      "훈련용 뉴스의 최대 길이 :874\n",
      "훈련용 뉴스의 평균 길이 :226.57088607594937\n"
     ]
    },
    {
     "data": {
      "image/png": "[encoded data removed]",
      "text/plain": [
       "<Figure size 1080x360 with 2 Axes>"
      ]
     },
     "metadata": {
      "needs_background": "light"
     },
     "output_type": "display_data"
    }
   ],
   "source": [
    "import matplotlib.pyplot as plt\n",
    "# Colab에서 한글 폰트 설정\n",
    "plt.rcParams['font.family'] = 'NanumBarunGothic'\n",
    "plt.rcParams['axes.unicode_minus'] = False  # 마이너스 기호 깨짐 방지\n",
    "import numpy as np\n",
    "import pandas as pd\n",
    "import seaborn as sns\n",
    "\n",
    "print('데이터 정보')\n",
    "print('-'*50)\n",
    "print('x_train :',x_train.shape)\n",
    "print('y_train :',y_train.shape)\n",
    "print('label 종류:', set(y_train))\n",
    "print('-'*50)\n",
    "num_classes = 4\n",
    "print('클래스의 수 : {}'.format(num_classes))\n",
    "print('-'*50)\n",
    "print('훈련용 뉴스의 최대 길이 :{}'.format(max(len(l) for l in x_train)))\n",
    "print('훈련용 뉴스의 평균 길이 :{}'.format(sum(map(len, x_train))/len(x_train)))\n",
    "\n",
    "# Create a figure with two subplots\n",
    "fig, axes = plt.subplots(nrows=1, ncols=2, figsize=(15, 5))\n",
    "\n",
    "# Plot the histogram of sample lengths\n",
    "axes[0].hist([len(s) for s in x_train], bins=50)\n",
    "axes[0].set_xlabel('length of samples')\n",
    "axes[0].set_ylabel('number of samples')\n",
    "axes[0].set_title('Sample Length Distribution')\n",
    "\n",
    "# Plot the count of each class\n",
    "sns.countplot(x=y_train, ax=axes[1])\n",
    "axes[1].set_title('Class Distribution')\n",
    "\n",
    "# Adjust layout\n",
    "plt.tight_layout()\n",
    "\n",
    "# Show the plots\n",
    "plt.show()"
   ]
  },
  {
   "cell_type": "markdown",
   "id": "aecafe45",
   "metadata": {},
   "source": [
    "데이터 길이 분포는 200정도의 길이가 가장 많고 최대 874 길이이다.\n",
    "\n",
    "클래스별 분포의 경우 일정하지만 기타 괴롭힘 대화가 가장 많고 협박 대화가 가장 적다."
   ]
  },
  {
   "cell_type": "markdown",
   "id": "73ba2e12",
   "metadata": {},
   "source": [
    "### 데이터 클래스별 길이 분포 확인"
   ]
  },
  {
   "cell_type": "code",
   "execution_count": 5,
   "id": "6c3f5131",
   "metadata": {},
   "outputs": [
    {
     "data": {
      "image/png": "[encoded data removed]",
      "text/plain": [
       "<Figure size 1080x360 with 4 Axes>"
      ]
     },
     "metadata": {
      "needs_background": "light"
     },
     "output_type": "display_data"
    }
   ],
   "source": [
    "fig, axes = plt.subplots(nrows=2, ncols=2, figsize=(15, 5))\n",
    "\n",
    "# Plot the histogram of sample lengths\n",
    "axes[0][0].hist([len(s) for s in train_data['conversation'][train_data['class']=='협박 대화']], bins=50)\n",
    "axes[0][0].set_xlabel('length of samples')\n",
    "axes[0][0].set_ylabel('number of samples')\n",
    "axes[0][0].set_title('협박 대화')\n",
    "\n",
    "axes[0][1].hist([len(s) for s in train_data['conversation'][train_data['class']=='갈취 대화']], bins=50)\n",
    "axes[0][1].set_xlabel('length of samples')\n",
    "axes[0][1].set_ylabel('number of samples')\n",
    "axes[0][1].set_title('갈취 대화')\n",
    "\n",
    "axes[1][0].hist([len(s) for s in train_data['conversation'][train_data['class']=='직장 내 괴롭힘 대화']], bins=50)\n",
    "axes[1][0].set_xlabel('length of samples')\n",
    "axes[1][0].set_ylabel('number of samples')\n",
    "axes[1][0].set_title('직장 내 괴롭힘 대화')\n",
    "\n",
    "axes[1][1].hist([len(s) for s in train_data['conversation'][train_data['class']=='기타 괴롭힘 대화']\n",
    "], bins=50)\n",
    "axes[1][1].set_xlabel('length of samples')\n",
    "axes[1][1].set_ylabel('number of samples')\n",
    "axes[1][1].set_title('기타 괴롭힘 대화')\n",
    "\n",
    "plt.subplots_adjust(wspace=0.3, hspace=0.5)\n",
    "plt.show()"
   ]
  },
  {
   "cell_type": "markdown",
   "id": "cce7723c",
   "metadata": {},
   "source": [
    "## 데이터 전처리"
   ]
  },
  {
   "cell_type": "code",
   "execution_count": 6,
   "id": "5c726f24",
   "metadata": {},
   "outputs": [
    {
     "data": {
      "text/plain": [
       "'지금 너 스스로를 죽여달라고 애원하는 것인가?\\n 아닙니다. 죄송합니다.\\n 죽을 거면 혼자 죽지 우리까지 사건에 휘말리게 해? 진짜 죽여버리고 싶게.\\n 정말 잘못했습니다.\\n 너가 선택해. 너가 죽을래 네 가족을 죽여줄까.\\n 죄송합니다. 정말 잘못했습니다.\\n 너에게는 선택권이 없어. 선택 못한다면 너와 네 가족까지 모조리 죽여버릴거야.\\n 선택 못하겠습니다. 한번만 도와주세요.\\n 그냥 다 죽여버려야겠군. 이의 없지?\\n 제발 도와주세요.'"
      ]
     },
     "execution_count": 6,
     "metadata": {},
     "output_type": "execute_result"
    }
   ],
   "source": [
    "x_train[0]"
   ]
  },
  {
   "cell_type": "code",
   "execution_count": 7,
   "id": "3751fd4c",
   "metadata": {
    "scrolled": true
   },
   "outputs": [
    {
     "data": {
      "text/plain": [
       "'어이 초딩. 이리 와봐\\n 누구세요\\n 이리와보라고 자식아. 죽고싶냐\\n 왜 이러세요 \\n 확! 죽을래? 조용히 이리 안와?\\n 무서워요\\n 돈 얼마있어. 다 내놔봐.\\n 저 돈 없어요\\n 씨발. 죽을래. 너 어디살아. 가진거 다 내놔봐.\\n 왜 이러세요\\n 산에 가서 확 묻어버리기 전에 호주머니에 있는거 다 내놔\\n 이러지 마세요'"
      ]
     },
     "execution_count": 7,
     "metadata": {},
     "output_type": "execute_result"
    }
   ],
   "source": [
    "x_train[100]"
   ]
  },
  {
   "cell_type": "code",
   "execution_count": null,
   "id": "b8ee03c2",
   "metadata": {},
   "outputs": [],
   "source": [
    "# 문장부호, 앞뒤로 공백 넣기"
   ]
  },
  {
   "cell_type": "markdown",
   "id": "17ab37ec",
   "metadata": {},
   "source": [
    "### sentencepiece를 이용한 tokenizer 생성\n"
   ]
  },
  {
   "cell_type": "code",
   "execution_count": 8,
   "id": "d4300c85",
   "metadata": {},
   "outputs": [],
   "source": [
    "def generate_tokenizer(corpus,\n",
    "                        vocab_size,\n",
    "                        lang=\"ko\",\n",
    "                        pad_id=0,\n",
    "                        bos_id=1,\n",
    "                        eos_id=2,\n",
    "                        unk_id=3):\n",
    "    # [[YOUR CODE]]\n",
    "    # 문장 데이터를 파일로 저장\n",
    "    with open(f\"{lang}_corpus.txt\", \"w\") as f:\n",
    "        for sentence in corpus:\n",
    "            f.write(sentence + \"\\n\")\n",
    "    \n",
    "    model_prefix = f\"{lang}_tokenizer\"\n",
    "    \n",
    "    # Train SentencePiece tokenizer\n",
    "    spm.SentencePieceTrainer.train(\n",
    "        f\"--input={lang}_corpus.txt --model_prefix={model_prefix} --vocab_size={vocab_size}\" + \n",
    "        f\" --pad_id={pad_id} --pad_piece=[PAD]\" +\n",
    "        f\" --unk_id={unk_id} --unk_piece=[UNK]\" +\n",
    "        f\" --bos_id={bos_id} --bos_piece=[BOS]\" +\n",
    "        f\" --eos_id={eos_id} --eos_piece=[EOS]\" +\n",
    "        \" --model_type=unigram --max_sentence_length=999999\")\n",
    "\n",
    "    # Load tokenizer\n",
    "    tokenizer = spm.SentencePieceProcessor()\n",
    "    tokenizer.load(f\"{model_prefix}.model\")\n",
    "    \n",
    "    return tokenizer"
   ]
  },
  {
   "cell_type": "code",
   "execution_count": 9,
   "id": "f5427750",
   "metadata": {},
   "outputs": [
    {
     "name": "stderr",
     "output_type": "stream",
     "text": [
      "sentencepiece_trainer.cc(177) LOG(INFO) Running command: --input=ko_corpus.txt --model_prefix=ko_tokenizer --vocab_size=20000 --pad_id=0 --pad_piece=[PAD] --unk_id=3 --unk_piece=[UNK] --bos_id=1 --bos_piece=[BOS] --eos_id=2 --eos_piece=[EOS] --model_type=unigram --max_sentence_length=999999\n",
      "sentencepiece_trainer.cc(77) LOG(INFO) Starts training with : \n",
      "trainer_spec {\n",
      "  input: ko_corpus.txt\n",
      "  input_format: \n",
      "  model_prefix: ko_tokenizer\n",
      "  model_type: UNIGRAM\n",
      "  vocab_size: 20000\n",
      "  self_test_sample_size: 0\n",
      "  character_coverage: 0.9995\n",
      "  input_sentence_size: 0\n",
      "  shuffle_input_sentence: 1\n",
      "  seed_sentencepiece_size: 1000000\n",
      "  shrinking_factor: 0.75\n",
      "  max_sentence_length: 999999\n",
      "  num_threads: 16\n",
      "  num_sub_iterations: 2\n",
      "  max_sentencepiece_length: 16\n",
      "  split_by_unicode_script: 1\n",
      "  split_by_number: 1\n",
      "  split_by_whitespace: 1\n",
      "  split_digits: 0\n",
      "  treat_whitespace_as_suffix: 0\n",
      "  allow_whitespace_only_pieces: 0\n",
      "  required_chars: \n",
      "  byte_fallback: 0\n",
      "  vocabulary_output_piece_score: 1\n",
      "  train_extremely_large_corpus: 0\n",
      "  hard_vocab_limit: 1\n",
      "  use_all_vocab: 0\n",
      "  unk_id: 3\n",
      "  bos_id: 1\n",
      "  eos_id: 2\n",
      "  pad_id: 0\n",
      "  unk_piece: [UNK]\n",
      "  bos_piece: [BOS]\n",
      "  eos_piece: [EOS]\n",
      "  pad_piece: [PAD]\n",
      "  unk_surface:  ⁇ \n",
      "}\n",
      "normalizer_spec {\n",
      "  name: nmt_nfkc\n",
      "  add_dummy_prefix: 1\n",
      "  remove_extra_whitespaces: 1\n",
      "  escape_whitespaces: 1\n",
      "  normalization_rule_tsv: \n",
      "}\n",
      "denormalizer_spec {}\n",
      "trainer_interface.cc(329) LOG(INFO) SentenceIterator is not specified. Using MultiFileSentenceIterator.\n",
      "trainer_interface.cc(178) LOG(INFO) Loading corpus: ko_corpus.txt\n",
      "trainer_interface.cc(385) LOG(INFO) Loaded all 40877 sentences\n",
      "trainer_interface.cc(400) LOG(INFO) Adding meta_piece: [PAD]\n",
      "trainer_interface.cc(400) LOG(INFO) Adding meta_piece: [BOS]\n",
      "trainer_interface.cc(400) LOG(INFO) Adding meta_piece: [EOS]\n",
      "trainer_interface.cc(400) LOG(INFO) Adding meta_piece: [UNK]\n",
      "trainer_interface.cc(405) LOG(INFO) Normalizing sentences...\n",
      "trainer_interface.cc(466) LOG(INFO) all chars count=891027\n",
      "trainer_interface.cc(477) LOG(INFO) Done: 99.9501% characters are covered.\n",
      "trainer_interface.cc(487) LOG(INFO) Alphabet size=1185\n",
      "trainer_interface.cc(488) LOG(INFO) Final character coverage=0.999501\n",
      "trainer_interface.cc(520) LOG(INFO) Done! preprocessed 40874 sentences.\n",
      "unigram_model_trainer.cc(139) LOG(INFO) Making suffix array...\n",
      "unigram_model_trainer.cc(143) LOG(INFO) Extracting frequent sub strings...\n",
      "unigram_model_trainer.cc(194) LOG(INFO) Initialized 51009 seed sentencepieces\n",
      "trainer_interface.cc(526) LOG(INFO) Tokenizing input sentences with whitespace: 40874\n",
      "trainer_interface.cc(537) LOG(INFO) Done! 60142\n",
      "unigram_model_trainer.cc(489) LOG(INFO) Using 60142 sentences for EM training\n",
      "unigram_model_trainer.cc(505) LOG(INFO) EM sub_iter=0 size=28165 obj=12.4823 num_tokens=126362 num_tokens/piece=4.48649\n",
      "unigram_model_trainer.cc(505) LOG(INFO) EM sub_iter=1 size=25601 obj=11.4738 num_tokens=127728 num_tokens/piece=4.98918\n",
      "unigram_model_trainer.cc(505) LOG(INFO) EM sub_iter=0 size=21992 obj=11.5475 num_tokens=131019 num_tokens/piece=5.95758\n",
      "unigram_model_trainer.cc(505) LOG(INFO) EM sub_iter=1 size=21937 obj=11.5167 num_tokens=131052 num_tokens/piece=5.97402\n",
      "trainer_interface.cc(615) LOG(INFO) Saving model: ko_tokenizer.model\n",
      "trainer_interface.cc(626) LOG(INFO) Saving vocabs: ko_tokenizer.vocab\n"
     ]
    }
   ],
   "source": [
    "SRC_VOCAB_SIZE = 20000\n",
    "tokenizer = generate_tokenizer(x_train, SRC_VOCAB_SIZE, 'ko')"
   ]
  },
  {
   "cell_type": "code",
   "execution_count": 10,
   "id": "9ce7e8c0",
   "metadata": {},
   "outputs": [],
   "source": [
    "MAX_NB_WORDS = 50000\n",
    "MAX_SEQUENCE_LENGTH = 400\n",
    "EMBEDDING_DIM = 256\n"
   ]
  },
  {
   "cell_type": "code",
   "execution_count": 11,
   "id": "a7d72bfd",
   "metadata": {
    "scrolled": true
   },
   "outputs": [
    {
     "name": "stdout",
     "output_type": "stream",
     "text": [
      "원본데이터크기: 3950\n",
      "전처리후데이터크기: 3706\n"
     ]
    }
   ],
   "source": [
    "filtered_train = train_data[train_data['conversation'].apply(len) <= 400]\n",
    "print(\"원본데이터크기:\", len(train_data))\n",
    "print(\"전처리후데이터크기:\", len(filtered_train))\n"
   ]
  },
  {
   "cell_type": "code",
   "execution_count": 44,
   "id": "3552df70",
   "metadata": {},
   "outputs": [
    {
     "data": {
      "text/html": [
       "<div>\n",
       "<style scoped>\n",
       "    .dataframe tbody tr th:only-of-type {\n",
       "        vertical-align: middle;\n",
       "    }\n",
       "\n",
       "    .dataframe tbody tr th {\n",
       "        vertical-align: top;\n",
       "    }\n",
       "\n",
       "    .dataframe thead th {\n",
       "        text-align: right;\n",
       "    }\n",
       "</style>\n",
       "<table border=\"1\" class=\"dataframe\">\n",
       "  <thead>\n",
       "    <tr style=\"text-align: right;\">\n",
       "      <th></th>\n",
       "      <th>text</th>\n",
       "    </tr>\n",
       "  </thead>\n",
       "  <tbody>\n",
       "    <tr>\n",
       "      <th>t_000</th>\n",
       "      <td>아가씨 담배한갑주소 네 4500원입니다 어 네 지갑어디갔지 에이 버스에서 잃어버렸나...</td>\n",
       "    </tr>\n",
       "    <tr>\n",
       "      <th>t_001</th>\n",
       "      <td>우리팀에서 다른팀으로 갈 사람 없나? 그럼 영지씨가 가는건 어때?  네? 제가요? ...</td>\n",
       "    </tr>\n",
       "    <tr>\n",
       "      <th>t_002</th>\n",
       "      <td>너 오늘 그게 뭐야 네 제가 뭘 잘못했나요.? 제대로 좀 하지 네 똑바로 좀 하지 ...</td>\n",
       "    </tr>\n",
       "    <tr>\n",
       "      <th>t_004</th>\n",
       "      <td>아무튼 앞으로 니가 내 와이파이야. .응 와이파이 온. 켰어. 반말? 주인님이라고도...</td>\n",
       "    </tr>\n",
       "    <tr>\n",
       "      <th>t_005</th>\n",
       "      <td>그러니까 빨리 말해. 선생님 제발 살려주십시오.  비밀번호 틀릴 때마다 손톱 하나씩...</td>\n",
       "    </tr>\n",
       "  </tbody>\n",
       "</table>\n",
       "</div>"
      ],
      "text/plain": [
       "                                                    text\n",
       "t_000  아가씨 담배한갑주소 네 4500원입니다 어 네 지갑어디갔지 에이 버스에서 잃어버렸나...\n",
       "t_001  우리팀에서 다른팀으로 갈 사람 없나? 그럼 영지씨가 가는건 어때?  네? 제가요? ...\n",
       "t_002  너 오늘 그게 뭐야 네 제가 뭘 잘못했나요.? 제대로 좀 하지 네 똑바로 좀 하지 ...\n",
       "t_004  아무튼 앞으로 니가 내 와이파이야. .응 와이파이 온. 켰어. 반말? 주인님이라고도...\n",
       "t_005  그러니까 빨리 말해. 선생님 제발 살려주십시오.  비밀번호 틀릴 때마다 손톱 하나씩..."
      ]
     },
     "execution_count": 44,
     "metadata": {},
     "output_type": "execute_result"
    }
   ],
   "source": [
    "test_data_path =\"~/data/test.json\"\n",
    "test_data = pd.read_json(test_data_path)\n",
    "test_data = test_data.T\n",
    "test_data.head()"
   ]
  },
  {
   "cell_type": "code",
   "execution_count": 47,
   "id": "99571a67",
   "metadata": {},
   "outputs": [
    {
     "data": {
      "text/plain": [
       "<bound method NDFrame.head of        class\n",
       "t_000      1\n",
       "t_001      2\n",
       "t_002      2\n",
       "t_003      4\n",
       "t_004      3>"
      ]
     },
     "execution_count": 47,
     "metadata": {},
     "output_type": "execute_result"
    }
   ],
   "source": [
    "sample = pd.read_json(\"~/data/sample_answersheet.json\")"
   ]
  },
  {
   "cell_type": "code",
   "execution_count": 48,
   "id": "96e16bf6",
   "metadata": {},
   "outputs": [],
   "source": [
    "# 패딩처리\n",
    "pad_train = tf.keras.preprocessing.sequence.pad_sequences(\n",
    "    [tokenizer.encode_as_ids(sentence) for sentence in filtered_train['conversation']],\n",
    "    padding='post'\n",
    ")"
   ]
  },
  {
   "cell_type": "code",
   "execution_count": null,
   "id": "f5203d7e",
   "metadata": {},
   "outputs": [],
   "source": []
  },
  {
   "cell_type": "code",
   "execution_count": 13,
   "id": "824abdf1",
   "metadata": {
    "scrolled": true
   },
   "outputs": [
    {
     "name": "stdout",
     "output_type": "stream",
     "text": [
      "[[   27     8  3061 ...     0     0     0]\n",
      " [14794   313     4 ...     0     0     0]\n",
      " [    8   829 18860 ...     0     0     0]\n",
      " ...\n",
      " [  139   291   262 ...     0     0     0]\n",
      " [  351  7848   270 ...     0     0     0]\n",
      " [ 5254    10     5 ...     0     0     0]]\n"
     ]
    }
   ],
   "source": [
    "print(pad_train)"
   ]
  },
  {
   "cell_type": "code",
   "execution_count": 14,
   "id": "2e002624",
   "metadata": {},
   "outputs": [
    {
     "data": {
      "text/plain": [
       "(3706, 185)"
      ]
     },
     "execution_count": 14,
     "metadata": {},
     "output_type": "execute_result"
    }
   ],
   "source": [
    "pad_train.shape"
   ]
  },
  {
   "cell_type": "code",
   "execution_count": 15,
   "id": "7038cd0c",
   "metadata": {},
   "outputs": [
    {
     "name": "stdout",
     "output_type": "stream",
     "text": [
      "Shape of label tensor: (3706, 4)\n"
     ]
    }
   ],
   "source": [
    "Y = pd.get_dummies(filtered_train['class']).values\n",
    "print('Shape of label tensor:', Y.shape)"
   ]
  },
  {
   "cell_type": "code",
   "execution_count": 16,
   "id": "c7694e2a",
   "metadata": {},
   "outputs": [
    {
     "name": "stdout",
     "output_type": "stream",
     "text": [
      "(3335, 185) (3335, 4)\n",
      "(371, 185) (371, 4)\n"
     ]
    }
   ],
   "source": [
    "# split\n",
    "from sklearn.model_selection import train_test_split\n",
    "\n",
    "# 이후 train_test_split을 사용하여 데이터를 나누는 코드 작성\n",
    "\n",
    "X_train, X_val, Y_train, Y_val = train_test_split(pad_train,Y, test_size = 0.10, random_state = 42)\n",
    "print(X_train.shape,Y_train.shape)\n",
    "print(X_val.shape,Y_val.shape)"
   ]
  },
  {
   "cell_type": "markdown",
   "id": "52d3b0d2",
   "metadata": {},
   "source": [
    "## 모델링\n",
    "### lstm"
   ]
  },
  {
   "cell_type": "code",
   "execution_count": 18,
   "id": "a87552ea",
   "metadata": {},
   "outputs": [
    {
     "name": "stdout",
     "output_type": "stream",
     "text": [
      "WARNING:tensorflow:Layer lstm_1 will not use cuDNN kernels since it doesn't meet the criteria. It will use a generic GPU kernel as fallback when running on GPU.\n",
      "Epoch 1/100\n",
      "47/47 [==============================] - 35s 697ms/step - loss: 1.3852 - accuracy: 0.2736 - val_loss: 1.3832 - val_accuracy: 0.2964\n",
      "Epoch 2/100\n",
      "47/47 [==============================] - 32s 686ms/step - loss: 1.3860 - accuracy: 0.2746 - val_loss: 1.3859 - val_accuracy: 0.2156\n",
      "Epoch 3/100\n",
      "47/47 [==============================] - 32s 688ms/step - loss: 1.3844 - accuracy: 0.2709 - val_loss: 1.3831 - val_accuracy: 0.2964\n",
      "Epoch 4/100\n",
      "47/47 [==============================] - 32s 685ms/step - loss: 1.3832 - accuracy: 0.2799 - val_loss: 1.3805 - val_accuracy: 0.2964\n",
      "Epoch 5/100\n",
      "47/47 [==============================] - 32s 684ms/step - loss: 1.3836 - accuracy: 0.2792 - val_loss: 1.3811 - val_accuracy: 0.2964\n",
      "Epoch 6/100\n",
      "47/47 [==============================] - 32s 687ms/step - loss: 1.3844 - accuracy: 0.2809 - val_loss: 1.3820 - val_accuracy: 0.2964\n",
      "Epoch 7/100\n",
      "47/47 [==============================] - 32s 685ms/step - loss: 1.3837 - accuracy: 0.2822 - val_loss: 1.3800 - val_accuracy: 0.2964\n",
      "Epoch 8/100\n",
      "47/47 [==============================] - 32s 688ms/step - loss: 1.3836 - accuracy: 0.2756 - val_loss: 1.3782 - val_accuracy: 0.2964\n",
      "Epoch 9/100\n",
      "47/47 [==============================] - 32s 684ms/step - loss: 1.3838 - accuracy: 0.2809 - val_loss: 1.3823 - val_accuracy: 0.2964\n",
      "Epoch 10/100\n",
      "47/47 [==============================] - 32s 687ms/step - loss: 1.3831 - accuracy: 0.2809 - val_loss: 1.3776 - val_accuracy: 0.2964\n",
      "Epoch 11/100\n",
      "47/47 [==============================] - 32s 683ms/step - loss: 1.3832 - accuracy: 0.2809 - val_loss: 1.3782 - val_accuracy: 0.2964\n",
      "Epoch 12/100\n",
      "47/47 [==============================] - 32s 684ms/step - loss: 1.3828 - accuracy: 0.2809 - val_loss: 1.3785 - val_accuracy: 0.2964\n",
      "Epoch 13/100\n",
      "47/47 [==============================] - 32s 684ms/step - loss: 1.3816 - accuracy: 0.2816 - val_loss: 1.3803 - val_accuracy: 0.2964\n"
     ]
    }
   ],
   "source": [
    "import tensorflow as tf\n",
    "from tensorflow.keras.models import Sequential\n",
    "from tensorflow.keras.layers import Embedding, SpatialDropout1D, LSTM, Dense\n",
    "from tensorflow.keras.callbacks import EarlyStopping\n",
    "\n",
    "model = Sequential()\n",
    "model.add(Embedding(MAX_NB_WORDS, EMBEDDING_DIM, input_length=X_train.shape[1])) #X_train.shape[1]\n",
    "model.add(SpatialDropout1D(0.2))\n",
    "model.add(LSTM(100, dropout=0.2, recurrent_dropout=0.2))\n",
    "model.add(Dense(4, activation='softmax'))\n",
    "model.compile(loss='categorical_crossentropy', optimizer='adam', metrics=['accuracy'])\n",
    "\n",
    "epochs = 100\n",
    "batch_size = 64\n",
    "\n",
    "history = model.fit(X_train, Y_train, epochs=epochs, batch_size=batch_size,validation_split=0.1,callbacks=[EarlyStopping(monitor='val_loss', patience=3, min_delta=0.0001)])"
   ]
  },
  {
   "cell_type": "code",
   "execution_count": 20,
   "id": "61c0ef55",
   "metadata": {},
   "outputs": [
    {
     "data": {
      "image/png": "[encoded data removed]",
      "text/plain": [
       "<Figure size 432x288 with 1 Axes>"
      ]
     },
     "metadata": {
      "needs_background": "light"
     },
     "output_type": "display_data"
    }
   ],
   "source": [
    "plt.title('Loss')\n",
    "plt.plot(history.history['loss'], label='train')\n",
    "plt.plot(history.history['val_loss'], label='test')\n",
    "plt.legend()\n",
    "plt.show();"
   ]
  },
  {
   "cell_type": "code",
   "execution_count": 22,
   "id": "b3e2fcd0",
   "metadata": {},
   "outputs": [
    {
     "data": {
      "image/png": "[encoded data removed]",
      "text/plain": [
       "<Figure size 432x288 with 1 Axes>"
      ]
     },
     "metadata": {
      "needs_background": "light"
     },
     "output_type": "display_data"
    }
   ],
   "source": [
    "plt.title('Accuracy')\n",
    "plt.plot(history.history['accuracy'], label='train')\n",
    "plt.plot(history.history['val_accuracy'], label='test')\n",
    "plt.legend()\n",
    "plt.show()"
   ]
  },
  {
   "cell_type": "code",
   "execution_count": 35,
   "id": "88367715",
   "metadata": {},
   "outputs": [
    {
     "name": "stdout",
     "output_type": "stream",
     "text": [
      "\u001b[0m\u001b[01;36mdata\u001b[0m@          ko_tokenizer.model  proj_lstm.ipynb\r\n",
      "ko_corpus.txt  ko_tokenizer.vocab  Untitled.ipynb\r\n"
     ]
    }
   ],
   "source": [
    "ls"
   ]
  },
  {
   "cell_type": "code",
   "execution_count": 51,
   "id": "bd99bb1f",
   "metadata": {},
   "outputs": [
    {
     "data": {
      "text/plain": [
       "array([[0, 0, 0, 1],\n",
       "       [0, 1, 0, 0],\n",
       "       [0, 0, 0, 1],\n",
       "       ...,\n",
       "       [0, 1, 0, 0],\n",
       "       [0, 0, 1, 0],\n",
       "       [1, 0, 0, 0]], dtype=uint8)"
      ]
     },
     "execution_count": 51,
     "metadata": {},
     "output_type": "execute_result"
    }
   ],
   "source": [
    "Y_train"
   ]
  },
  {
   "cell_type": "code",
   "execution_count": 53,
   "id": "eb7d1fd7",
   "metadata": {},
   "outputs": [
    {
     "name": "stdout",
     "output_type": "stream",
     "text": [
      "WARNING:tensorflow:Model was constructed with shape (None, 185) for input KerasTensor(type_spec=TensorSpec(shape=(None, 185), dtype=tf.float32, name='embedding_1_input'), name='embedding_1_input', description=\"created by layer 'embedding_1_input'\"), but it was called on an input with incompatible shape (None, 325).\n"
     ]
    },
    {
     "data": {
      "text/plain": [
       "array([[0.25821203, 0.27795088, 0.24270573, 0.22113138],\n",
       "       [0.25821203, 0.27795088, 0.24270573, 0.22113138],\n",
       "       [0.25821203, 0.27795088, 0.24270573, 0.22113138],\n",
       "       ...,\n",
       "       [0.25821203, 0.27795088, 0.24270573, 0.22113138],\n",
       "       [0.25821203, 0.27795088, 0.24270573, 0.22113138],\n",
       "       [0.25821203, 0.27795088, 0.24270573, 0.22113138]], dtype=float32)"
      ]
     },
     "execution_count": 53,
     "metadata": {},
     "output_type": "execute_result"
    }
   ],
   "source": [
    "pad_test = tf.keras.preprocessing.sequence.pad_sequences(\n",
    "    [tokenizer.encode_as_ids(sentence) for sentence in test_data['text']],\n",
    "    padding='post'\n",
    ")\n",
    "pred = model.predict(pad_test)\n",
    "pred\n",
    "#print(pred, labels[np.argmax(pred)])"
   ]
  },
  {
   "cell_type": "code",
   "execution_count": 54,
   "id": "ddcb3fab",
   "metadata": {},
   "outputs": [
    {
     "data": {
      "text/plain": [
       "535"
      ]
     },
     "execution_count": 54,
     "metadata": {},
     "output_type": "execute_result"
    }
   ],
   "source": [
    "np.argmax(pred)"
   ]
  },
  {
   "cell_type": "code",
   "execution_count": null,
   "id": "c36cec31",
   "metadata": {},
   "outputs": [],
   "source": [
    "import numpy as np\n",
    "from sklearn.model_selection import GridSearchCV\n",
    "from tensorflow.keras.models import Sequential\n",
    "from tensorflow.keras.layers import Embedding, LSTM, Dense, SpatialDropout1D\n",
    "from tensorflow.keras.wrappers.scikit_learn import KerasClassifier\n",
    "from sklearn.model_selection import train_test_split\n",
    "from sklearn.metrics import accuracy_score\n",
    "import joblib\n",
    "from tensorflow.keras.callbacks import EarlyStopping, ModelCheckpoint\n",
    "\n",
    "\n",
    "# Define the LSTM model as a function\n",
    "def create_lstm_model(embedding_dim=100, lstm_units=50, dropout_rate=0.2):\n",
    "    model = Sequential()\n",
    "    model.add(Embedding(MAX_NB_WORDS, embedding_dim, input_length=X_train.shape[1]))\n",
    "    model.add(SpatialDropout1D(dropout_rate))\n",
    "    model.add(LSTM(lstm_units, dropout=dropout_rate, recurrent_dropout=dropout_rate))\n",
    "    model.add(Dense(4, activation='softmax'))\n",
    "    model.compile(loss='categorical_crossentropy', optimizer='adam', metrics=['accuracy'])\n",
    "    return model\n",
    "\n",
    "# Create KerasClassifier based on the LSTM model\n",
    "lstm_classifier = KerasClassifier(build_fn=create_lstm_model, verbose=0)\n",
    "\n",
    "# Define hyperparameters to search\n",
    "param_grid = {\n",
    "    'embedding_dim': [100, 200],\n",
    "    'lstm_units': [50, 100],\n",
    "    'dropout_rate': [0.2, 0.4],\n",
    "    'batch_size': [32, 64]\n",
    "}\n",
    "\n",
    "early_stopping = EarlyStopping(monitor='val_loss', patience=3, min_delta=0.0001)\n",
    "model_checkpoint = ModelCheckpoint('best_model.h5', monitor='val_loss', save_best_only=True)\n",
    "\n",
    "# Create GridSearchCV instance\n",
    "grid = GridSearchCV(estimator=lstm_classifier, param_grid=param_grid, cv=3, scoring='accuracy', verbose=1)\n",
    "\n",
    "# Perform the grid search on training data\n",
    "grid_result = grid.fit(X_train, Y_train, callbacks=[early_stopping, model_checkpoint])\n",
    "\n"
   ]
  },
  {
   "cell_type": "code",
   "execution_count": null,
   "id": "9de1bc1b",
   "metadata": {},
   "outputs": [],
   "source": [
    "\n",
    "# Print the best hyperparameters and results\n",
    "print(\"Best: %f using %s\" % (grid_result.best_score_, grid_result.best_params_))\n",
    "\n",
    "# Get the best model from the grid search\n",
    "best_model = grid_result.best_estimator_.model\n",
    "\n",
    "# Save the best model to a file using joblib\n",
    "joblib.dump(best_model, 'best_lstm_model.pkl')\n",
    "\n",
    "# Load the best model later\n",
    "loaded_model = joblib.load('best_lstm_model.pkl')\n",
    "\n",
    "# Make predictions using the loaded model\n",
    "Y_pred = loaded_model.predict(X_test)\n",
    "accuracy = accuracy_score(np.argmax(Y_test, axis=1), Y_pred)\n",
    "print(\"Test accuracy: %.4f\" % accuracy)\n"
   ]
  },
  {
   "cell_type": "code",
   "execution_count": null,
   "id": "d4088c22",
   "metadata": {},
   "outputs": [],
   "source": []
  }
 ],
 "metadata": {
  "kernelspec": {
   "display_name": "Python 3 (ipykernel)",
   "language": "python",
   "name": "python3"
  },
  "language_info": {
   "codemirror_mode": {
    "name": "ipython",
    "version": 3
   },
   "file_extension": ".py",
   "mimetype": "text/x-python",
   "name": "python",
   "nbconvert_exporter": "python",
   "pygments_lexer": "ipython3",
   "version": "3.9.7"
  }
 },
 "nbformat": 4,
 "nbformat_minor": 5
}
